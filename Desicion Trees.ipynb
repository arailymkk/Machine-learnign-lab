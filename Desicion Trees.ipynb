{
 "cells": [
  {
   "cell_type": "markdown",
   "metadata": {},
   "source": [
    "# Machine Learning Lab 9 - Arailym Kaiyrova"
   ]
  },
  {
   "cell_type": "markdown",
   "metadata": {},
   "source": [
    "### Exercise 1: Implement Decision Tree"
   ]
  },
  {
   "cell_type": "code",
   "execution_count": null,
   "metadata": {},
   "outputs": [],
   "source": [
    "import numpy as np\n",
    "import pandas as pd\n",
    "import matplotlib.pyplot as plt\n",
    "import random\n",
    "%matplotlib inline"
   ]
  },
  {
   "cell_type": "markdown",
   "metadata": {},
   "source": [
    "First started with loading the dataset, and assigning the corresponding columns"
   ]
  },
  {
   "cell_type": "code",
   "execution_count": 601,
   "metadata": {},
   "outputs": [
    {
     "data": {
      "text/html": [
       "<div>\n",
       "<style scoped>\n",
       "    .dataframe tbody tr th:only-of-type {\n",
       "        vertical-align: middle;\n",
       "    }\n",
       "\n",
       "    .dataframe tbody tr th {\n",
       "        vertical-align: top;\n",
       "    }\n",
       "\n",
       "    .dataframe thead th {\n",
       "        text-align: right;\n",
       "    }\n",
       "</style>\n",
       "<table border=\"1\" class=\"dataframe\">\n",
       "  <thead>\n",
       "    <tr style=\"text-align: right;\">\n",
       "      <th></th>\n",
       "      <th>sepal_length</th>\n",
       "      <th>sepal_width</th>\n",
       "      <th>petal_length</th>\n",
       "      <th>petal_width</th>\n",
       "      <th>label</th>\n",
       "    </tr>\n",
       "  </thead>\n",
       "  <tbody>\n",
       "    <tr>\n",
       "      <th>0</th>\n",
       "      <td>4.9</td>\n",
       "      <td>3.0</td>\n",
       "      <td>1.4</td>\n",
       "      <td>0.2</td>\n",
       "      <td>Iris-setosa</td>\n",
       "    </tr>\n",
       "    <tr>\n",
       "      <th>1</th>\n",
       "      <td>4.7</td>\n",
       "      <td>3.2</td>\n",
       "      <td>1.3</td>\n",
       "      <td>0.2</td>\n",
       "      <td>Iris-setosa</td>\n",
       "    </tr>\n",
       "    <tr>\n",
       "      <th>2</th>\n",
       "      <td>4.6</td>\n",
       "      <td>3.1</td>\n",
       "      <td>1.5</td>\n",
       "      <td>0.2</td>\n",
       "      <td>Iris-setosa</td>\n",
       "    </tr>\n",
       "    <tr>\n",
       "      <th>3</th>\n",
       "      <td>5.0</td>\n",
       "      <td>3.6</td>\n",
       "      <td>1.4</td>\n",
       "      <td>0.2</td>\n",
       "      <td>Iris-setosa</td>\n",
       "    </tr>\n",
       "    <tr>\n",
       "      <th>4</th>\n",
       "      <td>5.4</td>\n",
       "      <td>3.9</td>\n",
       "      <td>1.7</td>\n",
       "      <td>0.4</td>\n",
       "      <td>Iris-setosa</td>\n",
       "    </tr>\n",
       "  </tbody>\n",
       "</table>\n",
       "</div>"
      ],
      "text/plain": [
       "   sepal_length  sepal_width  petal_length  petal_width        label\n",
       "0           4.9          3.0           1.4          0.2  Iris-setosa\n",
       "1           4.7          3.2           1.3          0.2  Iris-setosa\n",
       "2           4.6          3.1           1.5          0.2  Iris-setosa\n",
       "3           5.0          3.6           1.4          0.2  Iris-setosa\n",
       "4           5.4          3.9           1.7          0.4  Iris-setosa"
      ]
     },
     "execution_count": 601,
     "metadata": {},
     "output_type": "execute_result"
    }
   ],
   "source": [
    "col_names = ['sepal_length', 'sepal_width', 'petal_length', 'petal_width', 'label']\n",
    "df = pd.read_csv(\"iris.data\", skiprows=1, header=None, names=col_names)\n",
    "df.head()"
   ]
  },
  {
   "cell_type": "markdown",
   "metadata": {},
   "source": [
    "Next is to separate the dataset into train and test sets according to given fraction, which is 0.8"
   ]
  },
  {
   "cell_type": "code",
   "execution_count": 602,
   "metadata": {},
   "outputs": [],
   "source": [
    "def split_train_test(df, frac):\n",
    "    train=df.sample(frac=frac,random_state=200) #random state is a seed value\n",
    "    test=df.drop(train.index)\n",
    "    return train, test\n",
    "\n",
    "train_df, test_df = split_train_test(df, 0.8)"
   ]
  },
  {
   "cell_type": "markdown",
   "metadata": {},
   "source": [
    "Below, there are the methods neccessary for building the decision tree. The function below is used for acquiring all possible splits in the dataset for each feature"
   ]
  },
  {
   "cell_type": "code",
   "execution_count": 784,
   "metadata": {},
   "outputs": [],
   "source": [
    "def get_potential_splits(data):\n",
    "    # Get all potential splits for all the columns of the data\n",
    "    potential_splits = {}\n",
    "    _, n_columns = data.shape\n",
    "    for column_index in range(n_columns - 1):        # excluding the last column which is the label\n",
    "        potential_splits[column_index] = []\n",
    "        values = data[:, column_index]\n",
    "        unique_values = np.unique(values)\n",
    "\n",
    "        for index in range(len(unique_values)):\n",
    "            if index != 0:\n",
    "                current_value = unique_values[index]\n",
    "                previous_value = unique_values[index - 1]\n",
    "                potential_split = (current_value + previous_value) / 2\n",
    "                \n",
    "                potential_splits[column_index].append(potential_split)\n",
    "    \n",
    "    return potential_splits"
   ]
  },
  {
   "cell_type": "markdown",
   "metadata": {},
   "source": [
    "The method below splits the dataset into left and right datasets according to the threshold value from selected feature column"
   ]
  },
  {
   "cell_type": "code",
   "execution_count": 785,
   "metadata": {},
   "outputs": [],
   "source": [
    "def split_data(data, split_column, split_value):\n",
    "    # This function is useful in the splitting of a node given a feature attribute and the split value\n",
    "    split_column_values = data[:, split_column]\n",
    "\n",
    "    data_below = data[split_column_values <= split_value]\n",
    "    data_above = data[split_column_values >  split_value]\n",
    "    \n",
    "    return data_below, data_above"
   ]
  },
  {
   "cell_type": "code",
   "execution_count": 786,
   "metadata": {},
   "outputs": [],
   "source": [
    "def compute_entropy(data):\n",
    "    # This function computes the entropy of the label column\n",
    "    label_column = data[:, -1]\n",
    "    _, counts = np.unique(label_column, return_counts=True)\n",
    "\n",
    "    probabilities = counts / counts.sum()\n",
    "    entropy = sum(probabilities * -np.log2(probabilities))\n",
    "     \n",
    "    return entropy"
   ]
  },
  {
   "cell_type": "markdown",
   "metadata": {},
   "source": [
    "The mothod below is used for calculating information gain according to required quality criterion, which chooses either MCR or gini index. Implementation of gini index will be shown later"
   ]
  },
  {
   "cell_type": "code",
   "execution_count": 788,
   "metadata": {},
   "outputs": [],
   "source": [
    "def calculate_split_entropy(data_below, data_above, mode):\n",
    "    # This function computes the split entropy given the data going into the left and the right nodes\n",
    "    n = len(data_below) + len(data_above)\n",
    "    p_data_below = len(data_below) / n\n",
    "    p_data_above = len(data_above) / n\n",
    "    \n",
    "    if mode=='gini':\n",
    "        overall_entropy =  (p_data_below * gini_index(data_below) \n",
    "                      + p_data_above * gini_index(data_above))\n",
    "    else:\n",
    "        overall_entropy =  (p_data_below * compute_entropy(data_below) \n",
    "                      + p_data_above * compute_entropy(data_above))\n",
    "    \n",
    "    return overall_entropy"
   ]
  },
  {
   "cell_type": "markdown",
   "metadata": {},
   "source": [
    "The function below is for finding the best split among all potential splits, and value for information gain"
   ]
  },
  {
   "cell_type": "code",
   "execution_count": 789,
   "metadata": {},
   "outputs": [],
   "source": [
    "def determine_best_split(data, potential_splits, mode):\n",
    "    # Complete the following function. This function determines the best split out of all the potential splits at a given point.\n",
    "    # This function should return the index of the column which should be used for splitting and also the split value.\n",
    "    best_split_column, best_split_value = None, None\n",
    "    max_info_gain = -float(\"inf\")\n",
    "    #print(potential_splits)\n",
    "    \n",
    "    #potential_splits = get_potential_splits(data)\n",
    "    for split_column in potential_splits:\n",
    "        for split_value in potential_splits[split_column]:\n",
    "            data_below, data_above = split_data(data, split_column, split_value)\n",
    "            curr_info_gain = calculate_split_entropy(data_below, data_above, mode)\n",
    "            \n",
    "            if curr_info_gain>max_info_gain:\n",
    "                max_info_gain = curr_info_gain\n",
    "                best_split_column, best_split_value = split_column, split_value    \n",
    "    return best_split_column, best_split_value\n"
   ]
  },
  {
   "cell_type": "markdown",
   "metadata": {},
   "source": [
    "The method 'check_if_unique_class' is for checking if splitting the data left is still possible, if there are more than one unique classes"
   ]
  },
  {
   "cell_type": "code",
   "execution_count": 810,
   "metadata": {},
   "outputs": [],
   "source": [
    "def check_if_unique_class(label_column):\n",
    "    # This function returns True if data contains only one unique class\n",
    "    unique_classes = np.unique(label_column)\n",
    "\n",
    "    if len(unique_classes) == 1:\n",
    "        return True\n",
    "    else:\n",
    "        return False"
   ]
  },
  {
   "cell_type": "markdown",
   "metadata": {},
   "source": [
    "The method is for calculating leaf value accoring to left data, and distribute their probabilities among available classes, and plot their histogram"
   ]
  },
  {
   "cell_type": "code",
   "execution_count": 825,
   "metadata": {},
   "outputs": [],
   "source": [
    "def unique_classes(data):\n",
    "    # This function does simply return unique classes in the data\n",
    "    label_column = data[:, -1]\n",
    "    unique_classes, counts_unique_classes = np.unique(label_column, return_counts=True)\n",
    "    \n",
    "    prob = [x / len(label_column) for x in counts_unique_classes]\n",
    "    \n",
    "    hist = pd.DataFrame(prob).hist(bins=5)\n",
    "    \n",
    "    index = counts_unique_classes.argmax()\n",
    "    classification = unique_classes[index]\n",
    "    \n",
    "    return classification"
   ]
  },
  {
   "cell_type": "markdown",
   "metadata": {},
   "source": [
    "This is the Node class for storing the tree node information, and if feature_name variable equals to 'leaf', it means that this is the leaf node, and 'split_value' contains leaf value instead of threshold value"
   ]
  },
  {
   "cell_type": "code",
   "execution_count": 826,
   "metadata": {},
   "outputs": [],
   "source": [
    "class Node():\n",
    "    def __init__(self, feature_name, feature_idx, split_value, left, right, depth):\n",
    "        self.feature_name = feature_name\n",
    "        self.feature_idx = feature_idx\n",
    "        self.split_value = split_value\n",
    "        self.left = left\n",
    "        self.right = right\n",
    "        self.depth = depth"
   ]
  },
  {
   "cell_type": "markdown",
   "metadata": {},
   "source": [
    "Building the tree, which implemented recursively, which stops if data cannot be spliied further, or depth of the tree exceeds the maximum depth, which is 4 in this case"
   ]
  },
  {
   "cell_type": "code",
   "execution_count": 827,
   "metadata": {},
   "outputs": [],
   "source": [
    "def dtree(df, mode, depth=0):\n",
    "    if depth == 0:\n",
    "        data = df.values\n",
    "        global COLUMN_HEADERS\n",
    "        COLUMN_HEADERS = df.columns\n",
    "    else:\n",
    "        data = df           \n",
    "       \n",
    "    # base cases\n",
    "    if check_if_unique_class(data[:, -1]) or depth>4:\n",
    "        classification = unique_classes(data)        \n",
    "        feature_idx, feature_name, split_value = -1, 'leaf', classification\n",
    "        node = Node(feature_name, feature_idx, split_value, None, None, depth)\n",
    "        return node\n",
    "    \n",
    "    # recursive part\n",
    "    else:    \n",
    "        # helper functions \n",
    "        potential_splits = get_potential_splits(data)\n",
    "        split_column, split_value = determine_best_split(data, potential_splits, mode)\n",
    "        data_below, data_above = split_data(data, split_column, split_value)\n",
    "        \n",
    "        # instantiate sub-tree\n",
    "        feature_name = COLUMN_HEADERS[split_column]\n",
    "        left = dtree(data_below, mode, depth+1)\n",
    "        right = dtree(data_above, mode, depth+1)\n",
    "        node = Node(feature_name, split_column, split_value, left, right, depth)\n",
    "        return node   "
   ]
  },
  {
   "cell_type": "markdown",
   "metadata": {},
   "source": [
    "Results for simple MCR:"
   ]
  },
  {
   "cell_type": "code",
   "execution_count": 828,
   "metadata": {},
   "outputs": [
    {
     "data": {
      "image/png": "[encoded data removed]",
      "text/plain": [
       "<Figure size 432x288 with 1 Axes>"
      ]
     },
     "metadata": {
      "needs_background": "light"
     },
     "output_type": "display_data"
    },
    {
     "data": {
      "image/png": "[encoded data removed]",
      "text/plain": [
       "<Figure size 432x288 with 1 Axes>"
      ]
     },
     "metadata": {
      "needs_background": "light"
     },
     "output_type": "display_data"
    },
    {
     "data": {
      "image/png": "[encoded data removed]",
      "text/plain": [
       "<Figure size 432x288 with 1 Axes>"
      ]
     },
     "metadata": {
      "needs_background": "light"
     },
     "output_type": "display_data"
    },
    {
     "data": {
      "image/png": "[encoded data removed]",
      "text/plain": [
       "<Figure size 432x288 with 1 Axes>"
      ]
     },
     "metadata": {
      "needs_background": "light"
     },
     "output_type": "display_data"
    },
    {
     "data": {
      "image/png": "[encoded data removed]",
      "text/plain": [
       "<Figure size 432x288 with 1 Axes>"
      ]
     },
     "metadata": {
      "needs_background": "light"
     },
     "output_type": "display_data"
    },
    {
     "data": {
      "image/png": "[encoded data removed]",
      "text/plain": [
       "<Figure size 432x288 with 1 Axes>"
      ]
     },
     "metadata": {
      "needs_background": "light"
     },
     "output_type": "display_data"
    }
   ],
   "source": [
    "tree = dtree(train_df, 'entropy')"
   ]
  },
  {
   "cell_type": "markdown",
   "metadata": {},
   "source": [
    "Level order traversal of the tree, or Breadth First Search Approach:"
   ]
  },
  {
   "cell_type": "code",
   "execution_count": 814,
   "metadata": {},
   "outputs": [],
   "source": [
    "def height(node):\n",
    "    if node is None:\n",
    "        return 0\n",
    "    else:\n",
    "        # Compute the height of each subtree\n",
    "        lheight = height(node.left)\n",
    "        rheight = height(node.right)\n",
    " \n",
    "        # Use the larger one\n",
    "        if lheight > rheight:\n",
    "            return lheight+1\n",
    "        else:\n",
    "            return rheight+1\n",
    "        \n",
    "# Print nodes at a current level\n",
    "def printCurrentLevel(root, level, ind):\n",
    "    if root is None:\n",
    "        return\n",
    "    if level == 1:\n",
    "        print(\"{} <= {}\".format(root.feature_name, root.split_value), level, 'side:',ind, 'depth: ',root.depth)\n",
    "    elif level > 1:\n",
    "        printCurrentLevel(root.left, level-1, 'left')\n",
    "        printCurrentLevel(root.right, level-1, 'right')\n",
    "\n",
    "def printLevelOrder(root):\n",
    "    h = height(root)\n",
    "    for i in range(1, h+1):\n",
    "        printCurrentLevel(root, i, 'root')"
   ]
  },
  {
   "cell_type": "code",
   "execution_count": 815,
   "metadata": {},
   "outputs": [
    {
     "name": "stdout",
     "output_type": "stream",
     "text": [
      "sepal_length <= 4.35 1 side: root depth:  0\n",
      "leaf <= Iris-setosa 1 side: left depth:  1\n",
      "sepal_width <= 2.1 1 side: right depth:  1\n",
      "leaf <= Iris-versicolor 1 side: left depth:  2\n",
      "sepal_length <= 7.800000000000001 1 side: right depth:  2\n",
      "sepal_width <= 4.1 1 side: left depth:  3\n",
      "leaf <= Iris-virginica 1 side: right depth:  3\n",
      "sepal_width <= 3.95 1 side: left depth:  4\n",
      "leaf <= Iris-setosa 1 side: right depth:  4\n",
      "leaf <= Iris-versicolor 1 side: left depth:  5\n",
      "leaf <= Iris-setosa 1 side: right depth:  5\n"
     ]
    }
   ],
   "source": [
    "printLevelOrder(tree)"
   ]
  },
  {
   "cell_type": "markdown",
   "metadata": {},
   "source": [
    "Making predictions for unseen data:"
   ]
  },
  {
   "cell_type": "code",
   "execution_count": 795,
   "metadata": {},
   "outputs": [],
   "source": [
    "def predict(X, tree):\n",
    "    preditions = [make_prediction(x, tree) for x in X]\n",
    "    return preditions\n",
    "    \n",
    "def make_prediction(x, tree):\n",
    "    if tree.feature_name == 'leaf': return tree.split_value\n",
    "    feature_val = x[tree.feature_idx]\n",
    "    if feature_val<=tree.split_value:\n",
    "        return make_prediction(x, tree.left)\n",
    "    else:\n",
    "        return make_prediction(x, tree.right)"
   ]
  },
  {
   "cell_type": "code",
   "execution_count": 830,
   "metadata": {},
   "outputs": [
    {
     "name": "stdout",
     "output_type": "stream",
     "text": [
      "Iris-setosa Iris-versicolor\n",
      "Iris-setosa Iris-versicolor\n",
      "Iris-setosa Iris-setosa\n",
      "Iris-setosa Iris-versicolor\n",
      "Iris-setosa Iris-versicolor\n",
      "Iris-setosa Iris-versicolor\n",
      "Iris-setosa Iris-setosa\n",
      "Iris-setosa Iris-versicolor\n",
      "Iris-setosa Iris-versicolor\n",
      "Iris-versicolor Iris-versicolor\n",
      "Iris-versicolor Iris-versicolor\n",
      "Iris-versicolor Iris-versicolor\n",
      "Iris-versicolor Iris-versicolor\n",
      "Iris-versicolor Iris-versicolor\n",
      "Iris-versicolor Iris-versicolor\n",
      "Iris-versicolor Iris-versicolor\n",
      "Iris-versicolor Iris-versicolor\n",
      "Iris-versicolor Iris-versicolor\n",
      "Iris-versicolor Iris-versicolor\n",
      "Iris-virginica Iris-versicolor\n",
      "Iris-virginica Iris-versicolor\n",
      "Iris-virginica Iris-versicolor\n",
      "Iris-virginica Iris-versicolor\n",
      "Iris-virginica Iris-versicolor\n",
      "Iris-virginica Iris-versicolor\n",
      "Iris-virginica Iris-versicolor\n",
      "Iris-virginica Iris-versicolor\n",
      "Iris-virginica Iris-versicolor\n",
      "Iris-virginica Iris-versicolor\n",
      "Iris-virginica Iris-versicolor\n",
      "Accuracy:  0.4\n"
     ]
    }
   ],
   "source": [
    "pred = predict(test_df.values, tree)\n",
    "y_actual = test_df['label'].values\n",
    "correct = 0\n",
    "for i in range(len(pred)):\n",
    "    if y_actual[i]==pred[i]: correct+=1\n",
    "    print(y_actual[i], pred[i])\n",
    "print('Accuracy: ', correct/len(pred))"
   ]
  },
  {
   "cell_type": "markdown",
   "metadata": {},
   "source": [
    "Implementation for gini index:"
   ]
  },
  {
   "cell_type": "code",
   "execution_count": 831,
   "metadata": {},
   "outputs": [],
   "source": [
    "def gini_index(data):\n",
    "    y = data[:, -1]\n",
    "    class_labels = np.unique(y)\n",
    "    gini = 0\n",
    "    for cls in class_labels:\n",
    "        p_cls = len(y[y == cls]) / len(y)\n",
    "        gini += p_cls**2\n",
    "    return 1 - gini"
   ]
  },
  {
   "cell_type": "code",
   "execution_count": 832,
   "metadata": {},
   "outputs": [
    {
     "name": "stdout",
     "output_type": "stream",
     "text": [
      "sepal_length <= 4.35 1 side: root depth:  0\n",
      "leaf <= Iris-setosa 1 side: left depth:  1\n",
      "sepal_width <= 2.1 1 side: right depth:  1\n",
      "leaf <= Iris-versicolor 1 side: left depth:  2\n",
      "sepal_length <= 7.800000000000001 1 side: right depth:  2\n",
      "sepal_width <= 4.1 1 side: left depth:  3\n",
      "leaf <= Iris-virginica 1 side: right depth:  3\n",
      "sepal_width <= 2.25 1 side: left depth:  4\n",
      "leaf <= Iris-setosa 1 side: right depth:  4\n",
      "leaf <= Iris-versicolor 1 side: left depth:  5\n",
      "leaf <= Iris-setosa 1 side: right depth:  5\n"
     ]
    },
    {
     "data": {
      "image/png": "[encoded data removed]",
      "text/plain": [
       "<Figure size 432x288 with 1 Axes>"
      ]
     },
     "metadata": {
      "needs_background": "light"
     },
     "output_type": "display_data"
    },
    {
     "data": {
      "image/png": "[encoded data removed]",
      "text/plain": [
       "<Figure size 432x288 with 1 Axes>"
      ]
     },
     "metadata": {
      "needs_background": "light"
     },
     "output_type": "display_data"
    },
    {
     "data": {
      "image/png": "[encoded data removed]",
      "text/plain": [
       "<Figure size 432x288 with 1 Axes>"
      ]
     },
     "metadata": {
      "needs_background": "light"
     },
     "output_type": "display_data"
    },
    {
     "data": {
      "image/png": "[encoded data removed]",
      "text/plain": [
       "<Figure size 432x288 with 1 Axes>"
      ]
     },
     "metadata": {
      "needs_background": "light"
     },
     "output_type": "display_data"
    },
    {
     "data": {
      "image/png": "[encoded data removed]",
      "text/plain": [
       "<Figure size 432x288 with 1 Axes>"
      ]
     },
     "metadata": {
      "needs_background": "light"
     },
     "output_type": "display_data"
    },
    {
     "data": {
      "image/png": "[encoded data removed]",
      "text/plain": [
       "<Figure size 432x288 with 1 Axes>"
      ]
     },
     "metadata": {
      "needs_background": "light"
     },
     "output_type": "display_data"
    }
   ],
   "source": [
    "tree_gini = dtree(train_df, 'gini')\n",
    "printLevelOrder(tree_gini)"
   ]
  },
  {
   "cell_type": "code",
   "execution_count": 833,
   "metadata": {},
   "outputs": [
    {
     "name": "stdout",
     "output_type": "stream",
     "text": [
      "['Iris-setosa', 'Iris-setosa', 'Iris-setosa', 'Iris-setosa', 'Iris-setosa', 'Iris-setosa', 'Iris-setosa', 'Iris-setosa', 'Iris-setosa', 'Iris-setosa', 'Iris-setosa', 'Iris-setosa', 'Iris-setosa', 'Iris-setosa', 'Iris-setosa', 'Iris-setosa', 'Iris-setosa', 'Iris-setosa', 'Iris-setosa', 'Iris-setosa', 'Iris-setosa', 'Iris-setosa', 'Iris-setosa', 'Iris-setosa', 'Iris-setosa', 'Iris-setosa', 'Iris-setosa', 'Iris-setosa', 'Iris-setosa', 'Iris-setosa']\n"
     ]
    }
   ],
   "source": [
    "pred_gini = predict(test_df.values, tree_gini)\n",
    "print(pred_gini)"
   ]
  },
  {
   "cell_type": "code",
   "execution_count": 834,
   "metadata": {},
   "outputs": [
    {
     "name": "stdout",
     "output_type": "stream",
     "text": [
      "Iris-setosa Iris-setosa\n",
      "Iris-setosa Iris-setosa\n",
      "Iris-setosa Iris-setosa\n",
      "Iris-setosa Iris-setosa\n",
      "Iris-setosa Iris-setosa\n",
      "Iris-setosa Iris-setosa\n",
      "Iris-setosa Iris-setosa\n",
      "Iris-setosa Iris-setosa\n",
      "Iris-setosa Iris-setosa\n",
      "Iris-versicolor Iris-setosa\n",
      "Iris-versicolor Iris-setosa\n",
      "Iris-versicolor Iris-setosa\n",
      "Iris-versicolor Iris-setosa\n",
      "Iris-versicolor Iris-setosa\n",
      "Iris-versicolor Iris-setosa\n",
      "Iris-versicolor Iris-setosa\n",
      "Iris-versicolor Iris-setosa\n",
      "Iris-versicolor Iris-setosa\n",
      "Iris-versicolor Iris-setosa\n",
      "Iris-virginica Iris-setosa\n",
      "Iris-virginica Iris-setosa\n",
      "Iris-virginica Iris-setosa\n",
      "Iris-virginica Iris-setosa\n",
      "Iris-virginica Iris-setosa\n",
      "Iris-virginica Iris-setosa\n",
      "Iris-virginica Iris-setosa\n",
      "Iris-virginica Iris-setosa\n",
      "Iris-virginica Iris-setosa\n",
      "Iris-virginica Iris-setosa\n",
      "Iris-virginica Iris-setosa\n",
      "Accuracy:  0.3\n"
     ]
    }
   ],
   "source": [
    "y_actual = test_df['label'].values\n",
    "correct = 0\n",
    "for i in range(len(pred_gini)):\n",
    "    if y_actual[i]==pred_gini[i]: correct+=1\n",
    "    print(y_actual[i], pred_gini[i])\n",
    "print('Accuracy: ', correct/len(pred_gini))"
   ]
  },
  {
   "cell_type": "markdown",
   "metadata": {},
   "source": [
    "### Exercise 2: Gradient Boosted Decision Trees "
   ]
  },
  {
   "cell_type": "markdown",
   "metadata": {},
   "source": [
    "For this exercise we first need to create make moons datasets for 10 different noises, visualize them , them split them into train and test sets"
   ]
  },
  {
   "cell_type": "code",
   "execution_count": 835,
   "metadata": {},
   "outputs": [
    {
     "data": {
      "image/png": "[encoded data removed]",
      "text/plain": [
       "<Figure size 432x288 with 1 Axes>"
      ]
     },
     "metadata": {
      "needs_background": "light"
     },
     "output_type": "display_data"
    }
   ],
   "source": [
    "#Creating make moons dataset\n",
    "from sklearn.datasets import make_moons\n",
    "from matplotlib import pyplot\n",
    "noises = [0.1, 0.2, 0.3, 0.4, 0.5, 0.6, 0.001, 0.01, 0.25, 0.05]\n",
    "X1, X2, y_comb = np.array([]), np.array([]), np.array([])\n",
    "for noise in noises: \n",
    "    # generate 2d classification dataset\n",
    "    X, y = make_moons(n_samples=100, noise=noise)\n",
    "    X1 = np.append(X1, X[:,0])\n",
    "    X2 = np.append(X2, X[:,1])\n",
    "    y_comb = np.append(y_comb, y)\n",
    "# scatter plot, dots colored by class value\n",
    "df2 = pd.DataFrame(dict(x=X1, y=X2, label=y_comb))\n",
    "colors = {0:'red', 1:'blue'}\n",
    "fig, ax = pyplot.subplots()\n",
    "grouped = df2.groupby('label')\n",
    "for key, group in grouped:\n",
    "    group.plot(ax=ax, kind='scatter', x='x', y='y', label=key, color=colors[key])\n",
    "pyplot.show()"
   ]
  },
  {
   "cell_type": "code",
   "execution_count": 836,
   "metadata": {},
   "outputs": [],
   "source": [
    "train_df_moon, test_df_moon = split_train_test(df2, 0.8)"
   ]
  },
  {
   "cell_type": "markdown",
   "metadata": {},
   "source": [
    "Next we need to build decision tree that will be called during at each gradient boost iteration, which is similar to the previous excercise with slight modifications.\\\n",
    "\\\n",
    "In this implementation I used different approach for calculating leaf values, which instead of taking the value with highest probability, it takes takes some of residuals as numerator and divides it by the sum of (prev_probability)*(1-prev_probability), and takes it as gradient.\\\n",
    "Using this gradient and learning rate, which is 0.1, updates the current probalility"
   ]
  },
  {
   "cell_type": "code",
   "execution_count": 843,
   "metadata": {},
   "outputs": [],
   "source": [
    "def update_leaf_values(data):\n",
    "    # This function does simply return unique classes in the data\n",
    "    num, denum = 0, 0\n",
    "    for d in data:\n",
    "        num+=d[4]\n",
    "        denum+=(d[3]*(1-d[3]))\n",
    "    w = num/denum\n",
    "    \n",
    "    for d in data:\n",
    "        d[3] = d[3] + 0.1*w\n",
    "        d[3] = (np.exp(d[3]))/(1+np.exp(d[3]))\n",
    "    \n",
    "    return data, w"
   ]
  },
  {
   "cell_type": "code",
   "execution_count": 844,
   "metadata": {},
   "outputs": [],
   "source": [
    "def dtree2(df, mode, new_df, data = None, depth=0):\n",
    "    if depth == 0:\n",
    "        data = df.values\n",
    "        global COLUMN_HEADERS, MAX_DEPTH\n",
    "        COLUMN_HEADERS = df.columns \n",
    "        MAX_DEPTH = 2\n",
    "    \n",
    "    \n",
    "    # base cases\n",
    "    if check_if_unique_class(data[:, 4]) or depth>MAX_DEPTH:\n",
    "        upd, val = update_leaf_values(data) \n",
    "        new_df.append(upd)\n",
    "        feature_name, value = 'leaf', val\n",
    "        node = Node(feature_name, -1, value, None, None, depth)\n",
    "        return node\n",
    "\n",
    "    \n",
    "    # recursive part\n",
    "    else:    \n",
    "        # helper functions \n",
    "        potential_splits = get_potential_splits(data[:,[0,1,4]])\n",
    "        split_column, split_value = determine_best_split(data[:,[0,1,4]], potential_splits, mode)\n",
    "        data_below, data_above = split_data(data, split_column, split_value)\n",
    "        \n",
    "        # instantiate sub-tree\n",
    "        feature_name = COLUMN_HEADERS[split_column]\n",
    "        left = dtree2(df, mode, new_df, data_below, depth+1)\n",
    "        right = dtree2(df, mode, new_df, data_above, depth+1)\n",
    "        node = Node(feature_name, split_column, split_value, left, right, depth)\n",
    "        return node\n",
    "    \n",
    "    "
   ]
  },
  {
   "cell_type": "markdown",
   "metadata": {},
   "source": [
    "Initial update done on train data by adding logistic probabilities, and residuals, which will be updated after each iteration"
   ]
  },
  {
   "cell_type": "code",
   "execution_count": 849,
   "metadata": {},
   "outputs": [
    {
     "data": {
      "text/html": [
       "<div>\n",
       "<style scoped>\n",
       "    .dataframe tbody tr th:only-of-type {\n",
       "        vertical-align: middle;\n",
       "    }\n",
       "\n",
       "    .dataframe tbody tr th {\n",
       "        vertical-align: top;\n",
       "    }\n",
       "\n",
       "    .dataframe thead th {\n",
       "        text-align: right;\n",
       "    }\n",
       "</style>\n",
       "<table border=\"1\" class=\"dataframe\">\n",
       "  <thead>\n",
       "    <tr style=\"text-align: right;\">\n",
       "      <th></th>\n",
       "      <th>x</th>\n",
       "      <th>y</th>\n",
       "      <th>label</th>\n",
       "      <th>prob</th>\n",
       "      <th>resid</th>\n",
       "    </tr>\n",
       "  </thead>\n",
       "  <tbody>\n",
       "    <tr>\n",
       "      <th>674</th>\n",
       "      <td>0.981358</td>\n",
       "      <td>0.191063</td>\n",
       "      <td>0.0</td>\n",
       "      <td>0.5</td>\n",
       "      <td>0.5</td>\n",
       "    </tr>\n",
       "    <tr>\n",
       "      <th>233</th>\n",
       "      <td>1.028106</td>\n",
       "      <td>-0.375389</td>\n",
       "      <td>1.0</td>\n",
       "      <td>0.5</td>\n",
       "      <td>-0.5</td>\n",
       "    </tr>\n",
       "    <tr>\n",
       "      <th>739</th>\n",
       "      <td>-0.800262</td>\n",
       "      <td>0.602780</td>\n",
       "      <td>0.0</td>\n",
       "      <td>0.5</td>\n",
       "      <td>0.5</td>\n",
       "    </tr>\n",
       "    <tr>\n",
       "      <th>865</th>\n",
       "      <td>-0.222297</td>\n",
       "      <td>1.244070</td>\n",
       "      <td>0.0</td>\n",
       "      <td>0.5</td>\n",
       "      <td>0.5</td>\n",
       "    </tr>\n",
       "    <tr>\n",
       "      <th>523</th>\n",
       "      <td>2.151748</td>\n",
       "      <td>0.022382</td>\n",
       "      <td>1.0</td>\n",
       "      <td>0.5</td>\n",
       "      <td>-0.5</td>\n",
       "    </tr>\n",
       "  </tbody>\n",
       "</table>\n",
       "</div>"
      ],
      "text/plain": [
       "            x         y  label  prob  resid\n",
       "674  0.981358  0.191063    0.0   0.5    0.5\n",
       "233  1.028106 -0.375389    1.0   0.5   -0.5\n",
       "739 -0.800262  0.602780    0.0   0.5    0.5\n",
       "865 -0.222297  1.244070    0.0   0.5    0.5\n",
       "523  2.151748  0.022382    1.0   0.5   -0.5"
      ]
     },
     "execution_count": 849,
     "metadata": {},
     "output_type": "execute_result"
    }
   ],
   "source": [
    "def update_df(df, initial_prob):\n",
    "    df['prob'] = initial_prob\n",
    "    df['prob'] = (np.exp(df['prob']))/(1+np.exp(df['prob']))\n",
    "    df['resid'] =  df['prob'] - df['label']\n",
    "    return df\n",
    "    \n",
    "counts = df2.groupby(['label']).count()\n",
    "initial_prob = np.log2(counts.iloc[0,0]/counts.iloc[1,0])\n",
    "train_df_moon = update_df(train_df_moon, initial_prob)\n",
    "train_df_moon.head()\n"
   ]
  },
  {
   "cell_type": "markdown",
   "metadata": {},
   "source": [
    "Function for training the data according to MAX_TREE size"
   ]
  },
  {
   "cell_type": "code",
   "execution_count": 847,
   "metadata": {},
   "outputs": [],
   "source": [
    "def train_gbst(df, MAX_TREES):\n",
    "    trees = []\n",
    "    for i in range(MAX_TREES):\n",
    "        arr = []\n",
    "        tree = dtree2(df, 'gini', arr)\n",
    "        trees.append(tree)\n",
    "        print('Desicion tree after', i, 'th iteration:')\n",
    "        printLevelOrder(tree)\n",
    "        df_temp = pd.DataFrame([], columns=['x', 'y', 'label', 'prob', 'resid'])\n",
    "        for row in arr:\n",
    "            df_temp = df_temp.append(pd.DataFrame(row, columns=['x', 'y', 'label', 'prob', 'resid']))\n",
    "\n",
    "        df = df_temp\n",
    "        df['resid'] = df['prob'] - df['label']\n",
    "    return trees\n",
    "    "
   ]
  },
  {
   "cell_type": "markdown",
   "metadata": {},
   "source": [
    "Training data according to given different train sizes, and predict the values for each unseen data according to the deciosion trees generated for each MAX_TREES size, and calculate accuracy"
   ]
  },
  {
   "cell_type": "code",
   "execution_count": 853,
   "metadata": {},
   "outputs": [
    {
     "name": "stdout",
     "output_type": "stream",
     "text": [
      "Desicion tree after 0 th iteration:\n",
      "x <= -1.6166188496844422 1 side: root depth:  0\n",
      "leaf <= 2.0 1 side: left depth:  1\n",
      "x <= -1.5470927761383098 1 side: right depth:  1\n",
      "leaf <= 2.0 1 side: left depth:  2\n",
      "x <= -1.4927834102187312 1 side: right depth:  2\n",
      "leaf <= 2.0 1 side: left depth:  3\n",
      "leaf <= 0.04767879548306148 1 side: right depth:  3\n",
      "Test error when maximum number of trees equal to 1 is: nan\n"
     ]
    },
    {
     "name": "stderr",
     "output_type": "stream",
     "text": [
      "<ipython-input-852-22c347fb58d0>:8: RuntimeWarning: divide by zero encountered in log\n",
      "  loss+=-y_actual[i]*np.log(pred[i]) - (1-y_actual[i])*np.log(1-pred[i])\n",
      "<ipython-input-852-22c347fb58d0>:8: RuntimeWarning: invalid value encountered in double_scalars\n",
      "  loss+=-y_actual[i]*np.log(pred[i]) - (1-y_actual[i])*np.log(1-pred[i])\n"
     ]
    },
    {
     "name": "stdout",
     "output_type": "stream",
     "text": [
      "Desicion tree after 0 th iteration:\n",
      "x <= -1.6166188496844422 1 side: root depth:  0\n",
      "leaf <= 2.0 1 side: left depth:  1\n",
      "x <= -1.5470927761383098 1 side: right depth:  1\n",
      "leaf <= 2.0 1 side: left depth:  2\n",
      "x <= -1.4927834102187312 1 side: right depth:  2\n",
      "leaf <= 2.0 1 side: left depth:  3\n",
      "leaf <= 0.04767879548306148 1 side: right depth:  3\n",
      "Desicion tree after 1 th iteration:\n",
      "y <= 2.289882187275003 1 side: root depth:  0\n",
      "y <= 2.242194391736894 1 side: left depth:  1\n",
      "leaf <= 2.6566009448690475 1 side: right depth:  1\n",
      "y <= 2.1824732242610727 1 side: left depth:  2\n",
      "leaf <= 2.6566009448690475 1 side: right depth:  2\n",
      "leaf <= 0.5780944937758898 1 side: left depth:  3\n",
      "leaf <= 2.6566009448690475 1 side: right depth:  3\n",
      "Test error when maximum number of trees equal to 2 is: nan\n",
      "Desicion tree after 0 th iteration:\n",
      "x <= -1.6166188496844422 1 side: root depth:  0\n",
      "leaf <= 2.0 1 side: left depth:  1\n",
      "x <= -1.5470927761383098 1 side: right depth:  1\n",
      "leaf <= 2.0 1 side: left depth:  2\n",
      "x <= -1.4927834102187312 1 side: right depth:  2\n",
      "leaf <= 2.0 1 side: left depth:  3\n",
      "leaf <= 0.04767879548306148 1 side: right depth:  3\n",
      "Desicion tree after 1 th iteration:\n",
      "y <= 2.289882187275003 1 side: root depth:  0\n",
      "y <= 2.242194391736894 1 side: left depth:  1\n",
      "leaf <= 2.6566009448690475 1 side: right depth:  1\n",
      "y <= 2.1824732242610727 1 side: left depth:  2\n",
      "leaf <= 2.6566009448690475 1 side: right depth:  2\n",
      "leaf <= 0.5780944937758898 1 side: left depth:  3\n",
      "leaf <= 2.6566009448690475 1 side: right depth:  3\n",
      "Desicion tree after 2 th iteration:\n",
      "x <= 2.913445460520458 1 side: root depth:  0\n",
      "x <= 2.6512193338940016 1 side: left depth:  1\n",
      "leaf <= -1.505913995239153 1 side: right depth:  1\n",
      "x <= 2.5946769314640052 1 side: left depth:  2\n",
      "leaf <= -1.505913995239153 1 side: right depth:  2\n",
      "leaf <= 0.8068493571582629 1 side: left depth:  3\n",
      "leaf <= -1.505913995239153 1 side: right depth:  3\n",
      "Desicion tree after 3 th iteration:\n",
      "y <= -1.2553345319226168 1 side: root depth:  0\n",
      "leaf <= -1.4748608418387579 1 side: left depth:  1\n",
      "y <= -1.1268902399291396 1 side: right depth:  1\n",
      "leaf <= -1.4748608418387579 1 side: left depth:  2\n",
      "y <= -1.0598755156238524 1 side: right depth:  2\n",
      "leaf <= -1.4748608418387579 1 side: left depth:  3\n",
      "leaf <= 0.8864759595961105 1 side: right depth:  3\n",
      "Desicion tree after 4 th iteration:\n",
      "x <= -1.6166188496844422 1 side: root depth:  0\n",
      "leaf <= 3.157241288044983 1 side: left depth:  1\n",
      "x <= 2.913445460520458 1 side: right depth:  1\n",
      "y <= -1.2553345319226168 1 side: left depth:  2\n",
      "leaf <= -1.4895522133044108 1 side: right depth:  2\n",
      "leaf <= -1.5882848639309843 1 side: left depth:  3\n",
      "leaf <= 0.9097345658411338 1 side: right depth:  3\n",
      "Test error when maximum number of trees equal to 5 is: nan\n",
      "Desicion tree after 0 th iteration:\n",
      "x <= -1.6166188496844422 1 side: root depth:  0\n",
      "leaf <= 2.0 1 side: left depth:  1\n",
      "x <= -1.5470927761383098 1 side: right depth:  1\n",
      "leaf <= 2.0 1 side: left depth:  2\n",
      "x <= -1.4927834102187312 1 side: right depth:  2\n",
      "leaf <= 2.0 1 side: left depth:  3\n",
      "leaf <= 0.04767879548306148 1 side: right depth:  3\n",
      "Desicion tree after 1 th iteration:\n",
      "y <= 2.289882187275003 1 side: root depth:  0\n",
      "y <= 2.242194391736894 1 side: left depth:  1\n",
      "leaf <= 2.6566009448690475 1 side: right depth:  1\n",
      "y <= 2.1824732242610727 1 side: left depth:  2\n",
      "leaf <= 2.6566009448690475 1 side: right depth:  2\n",
      "leaf <= 0.5780944937758898 1 side: left depth:  3\n",
      "leaf <= 2.6566009448690475 1 side: right depth:  3\n",
      "Desicion tree after 2 th iteration:\n",
      "x <= 2.913445460520458 1 side: root depth:  0\n",
      "x <= 2.6512193338940016 1 side: left depth:  1\n",
      "leaf <= -1.505913995239153 1 side: right depth:  1\n",
      "x <= 2.5946769314640052 1 side: left depth:  2\n",
      "leaf <= -1.505913995239153 1 side: right depth:  2\n",
      "leaf <= 0.8068493571582629 1 side: left depth:  3\n",
      "leaf <= -1.505913995239153 1 side: right depth:  3\n",
      "Desicion tree after 3 th iteration:\n",
      "y <= -1.2553345319226168 1 side: root depth:  0\n",
      "leaf <= -1.4748608418387579 1 side: left depth:  1\n",
      "y <= -1.1268902399291396 1 side: right depth:  1\n",
      "leaf <= -1.4748608418387579 1 side: left depth:  2\n",
      "y <= -1.0598755156238524 1 side: right depth:  2\n",
      "leaf <= -1.4748608418387579 1 side: left depth:  3\n",
      "leaf <= 0.8864759595961105 1 side: right depth:  3\n",
      "Desicion tree after 4 th iteration:\n",
      "x <= -1.6166188496844422 1 side: root depth:  0\n",
      "leaf <= 3.157241288044983 1 side: left depth:  1\n",
      "x <= 2.913445460520458 1 side: right depth:  1\n",
      "y <= -1.2553345319226168 1 side: left depth:  2\n",
      "leaf <= -1.4895522133044108 1 side: right depth:  2\n",
      "leaf <= -1.5882848639309843 1 side: left depth:  3\n",
      "leaf <= 0.9097345658411338 1 side: right depth:  3\n",
      "Desicion tree after 5 th iteration:\n",
      "y <= 2.289882187275003 1 side: root depth:  0\n",
      "y <= 2.242194391736894 1 side: left depth:  1\n",
      "leaf <= 3.172475357336917 1 side: right depth:  1\n",
      "y <= 2.117958681147215 1 side: left depth:  2\n",
      "leaf <= 3.172475357336917 1 side: right depth:  2\n",
      "leaf <= 0.9048997049263747 1 side: left depth:  3\n",
      "leaf <= 3.1702044359427775 1 side: right depth:  3\n",
      "Desicion tree after 6 th iteration:\n",
      "y <= 2.289882187275003 1 side: root depth:  0\n",
      "x <= -1.6166188496844422 1 side: left depth:  1\n",
      "leaf <= 3.7238226002890737 1 side: right depth:  1\n",
      "leaf <= 3.2735677707518116 1 side: left depth:  2\n",
      "x <= -1.5470927761383098 1 side: right depth:  2\n",
      "leaf <= 3.1704350185322907 1 side: left depth:  3\n",
      "leaf <= 0.9107846506259097 1 side: right depth:  3\n",
      "Desicion tree after 7 th iteration:\n",
      "x <= -1.6166188496844422 1 side: root depth:  0\n",
      "leaf <= 3.7784123676513186 1 side: left depth:  1\n",
      "x <= -1.4133708173600525 1 side: right depth:  1\n",
      "x <= -1.4416175624139407 1 side: left depth:  2\n",
      "x <= -1.3500954556735143 1 side: right depth:  2\n",
      "leaf <= 3.344237379140367 1 side: left depth:  3\n",
      "leaf <= 3.171987397679499 1 side: right depth:  3\n",
      "leaf <= 3.2236636412128665 1 side: left depth:  3\n",
      "leaf <= 0.9002412658146811 1 side: right depth:  3\n",
      "Desicion tree after 8 th iteration:\n",
      "x <= -1.6166188496844422 1 side: root depth:  0\n",
      "leaf <= 4.044022440913883 1 side: left depth:  1\n",
      "x <= -1.5470927761383098 1 side: right depth:  1\n",
      "leaf <= 3.9031679869865354 1 side: left depth:  2\n",
      "x <= -1.4927834102187312 1 side: right depth:  2\n",
      "leaf <= 3.770890269790706 1 side: left depth:  3\n",
      "leaf <= 0.9115291325575123 1 side: right depth:  3\n",
      "Desicion tree after 9 th iteration:\n",
      "x <= -1.6166188496844422 1 side: root depth:  0\n",
      "leaf <= 4.180771239132392 1 side: left depth:  1\n",
      "x <= -1.5470927761383098 1 side: right depth:  1\n",
      "leaf <= 4.108420304295281 1 side: left depth:  2\n",
      "x <= -1.4927834102187312 1 side: right depth:  2\n",
      "leaf <= 4.040128125125672 1 side: left depth:  3\n",
      "leaf <= 0.9114425276987596 1 side: right depth:  3\n",
      "Test error when maximum number of trees equal to 10 is: nan\n"
     ]
    }
   ],
   "source": [
    "tree_counts = [1, 2, 5, 10]\n",
    "for count in tree_counts:\n",
    "    trees = train_gbst(train_df_moon, count)\n",
    "    err = predict_find_error(test_df_moon, trees)\n",
    "    print('Test error when maximum number of trees equal to', count, 'is:', err)"
   ]
  },
  {
   "cell_type": "markdown",
   "metadata": {},
   "source": [
    "Methods for predicting the output with given data, and trained model which is the sequnce of decision trees:"
   ]
  },
  {
   "cell_type": "code",
   "execution_count": 851,
   "metadata": {},
   "outputs": [],
   "source": [
    "def predict_gbst(X, trees):\n",
    "    final = [0.5]*len(X)\n",
    "    for tree in trees:\n",
    "        preditions = [make_prediction_gbst(x, tree) for x in X]\n",
    "        final=np.add(final, preditions)\n",
    "    for i in range(len(final)):\n",
    "        if final[i]>=0.5: final[i] = 1\n",
    "        else: final[i] = 0\n",
    "    return final\n",
    "    \n",
    "def make_prediction_gbst(x, tree):\n",
    "    if tree.feature_name == 'leaf': return 0.1*tree.split_value\n",
    "    feature_val = x[tree.feature_idx]\n",
    "    if feature_val<=tree.split_value:\n",
    "        return make_prediction(x, tree.left)\n",
    "    else:\n",
    "        return make_prediction(x, tree.right)"
   ]
  },
  {
   "cell_type": "code",
   "execution_count": 854,
   "metadata": {},
   "outputs": [],
   "source": [
    "def predict_find_error(test, trees):\n",
    "    pred = predict_gbst(test.values, trees)\n",
    "    y_actual = test['label'].values\n",
    "    correct = 0\n",
    "    for i in range(len(pred)):\n",
    "        if y_actual[i]==pred[i]: correct+=1\n",
    "    return correct/len(pred)"
   ]
  },
  {
   "cell_type": "code",
   "execution_count": null,
   "metadata": {},
   "outputs": [],
   "source": []
  },
  {
   "cell_type": "code",
   "execution_count": null,
   "metadata": {},
   "outputs": [],
   "source": []
  }
 ],
 "metadata": {
  "kernelspec": {
   "display_name": "Python 3",
   "language": "python",
   "name": "python3"
  },
  "language_info": {
   "codemirror_mode": {
    "name": "ipython",
    "version": 3
   },
   "file_extension": ".py",
   "mimetype": "text/x-python",
   "name": "python",
   "nbconvert_exporter": "python",
   "pygments_lexer": "ipython3",
   "version": "3.8.5"
  }
 },
 "nbformat": 4,
 "nbformat_minor": 5
}
