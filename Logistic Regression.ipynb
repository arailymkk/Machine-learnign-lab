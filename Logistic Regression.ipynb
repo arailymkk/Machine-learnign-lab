{
 "cells": [
  {
   "cell_type": "markdown",
   "metadata": {},
   "source": [
    "Machine Learning Lab 4 - Arailym Kaiyrova"
   ]
  },
  {
   "cell_type": "markdown",
   "metadata": {},
   "source": [
    "Exercise 0: Data Preprocessing"
   ]
  },
  {
   "cell_type": "code",
   "execution_count": 480,
   "metadata": {},
   "outputs": [],
   "source": [
    "import numpy as np\n",
    "import math\n",
    "from collections import Counter\n",
    "import pandas as pd\n",
    "import matplotlib.pyplot as plt"
   ]
  },
  {
   "cell_type": "code",
   "execution_count": 481,
   "metadata": {},
   "outputs": [
    {
     "data": {
      "text/html": [
       "<div>\n",
       "<style scoped>\n",
       "    .dataframe tbody tr th:only-of-type {\n",
       "        vertical-align: middle;\n",
       "    }\n",
       "\n",
       "    .dataframe tbody tr th {\n",
       "        vertical-align: top;\n",
       "    }\n",
       "\n",
       "    .dataframe thead th {\n",
       "        text-align: right;\n",
       "    }\n",
       "</style>\n",
       "<table border=\"1\" class=\"dataframe\">\n",
       "  <thead>\n",
       "    <tr style=\"text-align: right;\">\n",
       "      <th></th>\n",
       "      <th>x</th>\n",
       "      <th>x.1</th>\n",
       "      <th>x.2</th>\n",
       "      <th>x.3</th>\n",
       "      <th>o</th>\n",
       "      <th>o.1</th>\n",
       "      <th>x.4</th>\n",
       "      <th>o.2</th>\n",
       "      <th>o.3</th>\n",
       "      <th>positive</th>\n",
       "    </tr>\n",
       "  </thead>\n",
       "  <tbody>\n",
       "    <tr>\n",
       "      <th>0</th>\n",
       "      <td>x</td>\n",
       "      <td>x</td>\n",
       "      <td>x</td>\n",
       "      <td>x</td>\n",
       "      <td>o</td>\n",
       "      <td>o</td>\n",
       "      <td>o</td>\n",
       "      <td>x</td>\n",
       "      <td>o</td>\n",
       "      <td>positive</td>\n",
       "    </tr>\n",
       "    <tr>\n",
       "      <th>1</th>\n",
       "      <td>x</td>\n",
       "      <td>x</td>\n",
       "      <td>x</td>\n",
       "      <td>x</td>\n",
       "      <td>o</td>\n",
       "      <td>o</td>\n",
       "      <td>o</td>\n",
       "      <td>o</td>\n",
       "      <td>x</td>\n",
       "      <td>positive</td>\n",
       "    </tr>\n",
       "    <tr>\n",
       "      <th>2</th>\n",
       "      <td>x</td>\n",
       "      <td>x</td>\n",
       "      <td>x</td>\n",
       "      <td>x</td>\n",
       "      <td>o</td>\n",
       "      <td>o</td>\n",
       "      <td>o</td>\n",
       "      <td>b</td>\n",
       "      <td>b</td>\n",
       "      <td>positive</td>\n",
       "    </tr>\n",
       "    <tr>\n",
       "      <th>3</th>\n",
       "      <td>x</td>\n",
       "      <td>x</td>\n",
       "      <td>x</td>\n",
       "      <td>x</td>\n",
       "      <td>o</td>\n",
       "      <td>o</td>\n",
       "      <td>b</td>\n",
       "      <td>o</td>\n",
       "      <td>b</td>\n",
       "      <td>positive</td>\n",
       "    </tr>\n",
       "    <tr>\n",
       "      <th>4</th>\n",
       "      <td>x</td>\n",
       "      <td>x</td>\n",
       "      <td>x</td>\n",
       "      <td>x</td>\n",
       "      <td>o</td>\n",
       "      <td>o</td>\n",
       "      <td>b</td>\n",
       "      <td>b</td>\n",
       "      <td>o</td>\n",
       "      <td>positive</td>\n",
       "    </tr>\n",
       "    <tr>\n",
       "      <th>...</th>\n",
       "      <td>...</td>\n",
       "      <td>...</td>\n",
       "      <td>...</td>\n",
       "      <td>...</td>\n",
       "      <td>...</td>\n",
       "      <td>...</td>\n",
       "      <td>...</td>\n",
       "      <td>...</td>\n",
       "      <td>...</td>\n",
       "      <td>...</td>\n",
       "    </tr>\n",
       "    <tr>\n",
       "      <th>952</th>\n",
       "      <td>o</td>\n",
       "      <td>x</td>\n",
       "      <td>x</td>\n",
       "      <td>x</td>\n",
       "      <td>o</td>\n",
       "      <td>o</td>\n",
       "      <td>o</td>\n",
       "      <td>x</td>\n",
       "      <td>x</td>\n",
       "      <td>negative</td>\n",
       "    </tr>\n",
       "    <tr>\n",
       "      <th>953</th>\n",
       "      <td>o</td>\n",
       "      <td>x</td>\n",
       "      <td>o</td>\n",
       "      <td>x</td>\n",
       "      <td>x</td>\n",
       "      <td>o</td>\n",
       "      <td>x</td>\n",
       "      <td>o</td>\n",
       "      <td>x</td>\n",
       "      <td>negative</td>\n",
       "    </tr>\n",
       "    <tr>\n",
       "      <th>954</th>\n",
       "      <td>o</td>\n",
       "      <td>x</td>\n",
       "      <td>o</td>\n",
       "      <td>x</td>\n",
       "      <td>o</td>\n",
       "      <td>x</td>\n",
       "      <td>x</td>\n",
       "      <td>o</td>\n",
       "      <td>x</td>\n",
       "      <td>negative</td>\n",
       "    </tr>\n",
       "    <tr>\n",
       "      <th>955</th>\n",
       "      <td>o</td>\n",
       "      <td>x</td>\n",
       "      <td>o</td>\n",
       "      <td>o</td>\n",
       "      <td>x</td>\n",
       "      <td>x</td>\n",
       "      <td>x</td>\n",
       "      <td>o</td>\n",
       "      <td>x</td>\n",
       "      <td>negative</td>\n",
       "    </tr>\n",
       "    <tr>\n",
       "      <th>956</th>\n",
       "      <td>o</td>\n",
       "      <td>o</td>\n",
       "      <td>x</td>\n",
       "      <td>x</td>\n",
       "      <td>x</td>\n",
       "      <td>o</td>\n",
       "      <td>o</td>\n",
       "      <td>x</td>\n",
       "      <td>x</td>\n",
       "      <td>negative</td>\n",
       "    </tr>\n",
       "  </tbody>\n",
       "</table>\n",
       "<p>957 rows × 10 columns</p>\n",
       "</div>"
      ],
      "text/plain": [
       "     x x.1 x.2 x.3  o o.1 x.4 o.2 o.3  positive\n",
       "0    x   x   x   x  o   o   o   x   o  positive\n",
       "1    x   x   x   x  o   o   o   o   x  positive\n",
       "2    x   x   x   x  o   o   o   b   b  positive\n",
       "3    x   x   x   x  o   o   b   o   b  positive\n",
       "4    x   x   x   x  o   o   b   b   o  positive\n",
       "..  ..  ..  ..  .. ..  ..  ..  ..  ..       ...\n",
       "952  o   x   x   x  o   o   o   x   x  negative\n",
       "953  o   x   o   x  x   o   x   o   x  negative\n",
       "954  o   x   o   x  o   x   x   o   x  negative\n",
       "955  o   x   o   o  x   x   x   o   x  negative\n",
       "956  o   o   x   x  x   o   o   x   x  negative\n",
       "\n",
       "[957 rows x 10 columns]"
      ]
     },
     "execution_count": 481,
     "metadata": {},
     "output_type": "execute_result"
    }
   ],
   "source": [
    "# reading from the file\n",
    "data =  pd.read_csv('tic-tac-toe.data', sep=\",\")\n",
    "data"
   ]
  },
  {
   "cell_type": "markdown",
   "metadata": {},
   "source": [
    "1. Convert any non-numeric values to numeric values.\\\n",
    "Since there were no much varitions of data in dataset, I simply replaced those strings or characters to specific number. For example by replacing 'x' to 1, 'o' to 0, 'b' to -1 as it can be seen below:"
   ]
  },
  {
   "cell_type": "code",
   "execution_count": 482,
   "metadata": {},
   "outputs": [
    {
     "data": {
      "text/html": [
       "<div>\n",
       "<style scoped>\n",
       "    .dataframe tbody tr th:only-of-type {\n",
       "        vertical-align: middle;\n",
       "    }\n",
       "\n",
       "    .dataframe tbody tr th {\n",
       "        vertical-align: top;\n",
       "    }\n",
       "\n",
       "    .dataframe thead th {\n",
       "        text-align: right;\n",
       "    }\n",
       "</style>\n",
       "<table border=\"1\" class=\"dataframe\">\n",
       "  <thead>\n",
       "    <tr style=\"text-align: right;\">\n",
       "      <th></th>\n",
       "      <th>x</th>\n",
       "      <th>x.1</th>\n",
       "      <th>x.2</th>\n",
       "      <th>x.3</th>\n",
       "      <th>o</th>\n",
       "      <th>o.1</th>\n",
       "      <th>x.4</th>\n",
       "      <th>o.2</th>\n",
       "      <th>o.3</th>\n",
       "      <th>positive</th>\n",
       "    </tr>\n",
       "  </thead>\n",
       "  <tbody>\n",
       "    <tr>\n",
       "      <th>0</th>\n",
       "      <td>1</td>\n",
       "      <td>1</td>\n",
       "      <td>1</td>\n",
       "      <td>1</td>\n",
       "      <td>0</td>\n",
       "      <td>0</td>\n",
       "      <td>0</td>\n",
       "      <td>1</td>\n",
       "      <td>0</td>\n",
       "      <td>1</td>\n",
       "    </tr>\n",
       "    <tr>\n",
       "      <th>1</th>\n",
       "      <td>1</td>\n",
       "      <td>1</td>\n",
       "      <td>1</td>\n",
       "      <td>1</td>\n",
       "      <td>0</td>\n",
       "      <td>0</td>\n",
       "      <td>0</td>\n",
       "      <td>0</td>\n",
       "      <td>1</td>\n",
       "      <td>1</td>\n",
       "    </tr>\n",
       "    <tr>\n",
       "      <th>2</th>\n",
       "      <td>1</td>\n",
       "      <td>1</td>\n",
       "      <td>1</td>\n",
       "      <td>1</td>\n",
       "      <td>0</td>\n",
       "      <td>0</td>\n",
       "      <td>0</td>\n",
       "      <td>-1</td>\n",
       "      <td>-1</td>\n",
       "      <td>1</td>\n",
       "    </tr>\n",
       "    <tr>\n",
       "      <th>3</th>\n",
       "      <td>1</td>\n",
       "      <td>1</td>\n",
       "      <td>1</td>\n",
       "      <td>1</td>\n",
       "      <td>0</td>\n",
       "      <td>0</td>\n",
       "      <td>-1</td>\n",
       "      <td>0</td>\n",
       "      <td>-1</td>\n",
       "      <td>1</td>\n",
       "    </tr>\n",
       "    <tr>\n",
       "      <th>4</th>\n",
       "      <td>1</td>\n",
       "      <td>1</td>\n",
       "      <td>1</td>\n",
       "      <td>1</td>\n",
       "      <td>0</td>\n",
       "      <td>0</td>\n",
       "      <td>-1</td>\n",
       "      <td>-1</td>\n",
       "      <td>0</td>\n",
       "      <td>1</td>\n",
       "    </tr>\n",
       "    <tr>\n",
       "      <th>...</th>\n",
       "      <td>...</td>\n",
       "      <td>...</td>\n",
       "      <td>...</td>\n",
       "      <td>...</td>\n",
       "      <td>...</td>\n",
       "      <td>...</td>\n",
       "      <td>...</td>\n",
       "      <td>...</td>\n",
       "      <td>...</td>\n",
       "      <td>...</td>\n",
       "    </tr>\n",
       "    <tr>\n",
       "      <th>952</th>\n",
       "      <td>0</td>\n",
       "      <td>1</td>\n",
       "      <td>1</td>\n",
       "      <td>1</td>\n",
       "      <td>0</td>\n",
       "      <td>0</td>\n",
       "      <td>0</td>\n",
       "      <td>1</td>\n",
       "      <td>1</td>\n",
       "      <td>0</td>\n",
       "    </tr>\n",
       "    <tr>\n",
       "      <th>953</th>\n",
       "      <td>0</td>\n",
       "      <td>1</td>\n",
       "      <td>0</td>\n",
       "      <td>1</td>\n",
       "      <td>1</td>\n",
       "      <td>0</td>\n",
       "      <td>1</td>\n",
       "      <td>0</td>\n",
       "      <td>1</td>\n",
       "      <td>0</td>\n",
       "    </tr>\n",
       "    <tr>\n",
       "      <th>954</th>\n",
       "      <td>0</td>\n",
       "      <td>1</td>\n",
       "      <td>0</td>\n",
       "      <td>1</td>\n",
       "      <td>0</td>\n",
       "      <td>1</td>\n",
       "      <td>1</td>\n",
       "      <td>0</td>\n",
       "      <td>1</td>\n",
       "      <td>0</td>\n",
       "    </tr>\n",
       "    <tr>\n",
       "      <th>955</th>\n",
       "      <td>0</td>\n",
       "      <td>1</td>\n",
       "      <td>0</td>\n",
       "      <td>0</td>\n",
       "      <td>1</td>\n",
       "      <td>1</td>\n",
       "      <td>1</td>\n",
       "      <td>0</td>\n",
       "      <td>1</td>\n",
       "      <td>0</td>\n",
       "    </tr>\n",
       "    <tr>\n",
       "      <th>956</th>\n",
       "      <td>0</td>\n",
       "      <td>0</td>\n",
       "      <td>1</td>\n",
       "      <td>1</td>\n",
       "      <td>1</td>\n",
       "      <td>0</td>\n",
       "      <td>0</td>\n",
       "      <td>1</td>\n",
       "      <td>1</td>\n",
       "      <td>0</td>\n",
       "    </tr>\n",
       "  </tbody>\n",
       "</table>\n",
       "<p>957 rows × 10 columns</p>\n",
       "</div>"
      ],
      "text/plain": [
       "     x  x.1  x.2  x.3  o  o.1  x.4  o.2  o.3  positive\n",
       "0    1    1    1    1  0    0    0    1    0         1\n",
       "1    1    1    1    1  0    0    0    0    1         1\n",
       "2    1    1    1    1  0    0    0   -1   -1         1\n",
       "3    1    1    1    1  0    0   -1    0   -1         1\n",
       "4    1    1    1    1  0    0   -1   -1    0         1\n",
       "..  ..  ...  ...  ... ..  ...  ...  ...  ...       ...\n",
       "952  0    1    1    1  0    0    0    1    1         0\n",
       "953  0    1    0    1  1    0    1    0    1         0\n",
       "954  0    1    0    1  0    1    1    0    1         0\n",
       "955  0    1    0    0  1    1    1    0    1         0\n",
       "956  0    0    1    1  1    0    0    1    1         0\n",
       "\n",
       "[957 rows x 10 columns]"
      ]
     },
     "execution_count": 482,
     "metadata": {},
     "output_type": "execute_result"
    }
   ],
   "source": [
    "data.iloc[:, :].replace({\"x\": 1, \"o\": 0, \"b\": -1, \"positive\": 1, \"negative\": 0}, inplace=True)\n",
    "data"
   ]
  },
  {
   "cell_type": "markdown",
   "metadata": {},
   "source": [
    "2. If we group the dataset according to target value, it can be seen that the number of positive outcomes are much more than number of negative outcomes. That's why the goven dataset is unbalaced"
   ]
  },
  {
   "cell_type": "code",
   "execution_count": 496,
   "metadata": {},
   "outputs": [
    {
     "data": {
      "text/html": [
       "<div>\n",
       "<style scoped>\n",
       "    .dataframe tbody tr th:only-of-type {\n",
       "        vertical-align: middle;\n",
       "    }\n",
       "\n",
       "    .dataframe tbody tr th {\n",
       "        vertical-align: top;\n",
       "    }\n",
       "\n",
       "    .dataframe thead th {\n",
       "        text-align: right;\n",
       "    }\n",
       "</style>\n",
       "<table border=\"1\" class=\"dataframe\">\n",
       "  <thead>\n",
       "    <tr style=\"text-align: right;\">\n",
       "      <th></th>\n",
       "      <th>x</th>\n",
       "      <th>x.1</th>\n",
       "      <th>x.2</th>\n",
       "      <th>x.3</th>\n",
       "      <th>o</th>\n",
       "      <th>o.1</th>\n",
       "      <th>x.4</th>\n",
       "      <th>o.2</th>\n",
       "      <th>o.3</th>\n",
       "    </tr>\n",
       "    <tr>\n",
       "      <th>positive</th>\n",
       "      <th></th>\n",
       "      <th></th>\n",
       "      <th></th>\n",
       "      <th></th>\n",
       "      <th></th>\n",
       "      <th></th>\n",
       "      <th></th>\n",
       "      <th></th>\n",
       "      <th></th>\n",
       "    </tr>\n",
       "  </thead>\n",
       "  <tbody>\n",
       "    <tr>\n",
       "      <th>0</th>\n",
       "      <td>332</td>\n",
       "      <td>332</td>\n",
       "      <td>332</td>\n",
       "      <td>332</td>\n",
       "      <td>332</td>\n",
       "      <td>332</td>\n",
       "      <td>332</td>\n",
       "      <td>332</td>\n",
       "      <td>332</td>\n",
       "    </tr>\n",
       "    <tr>\n",
       "      <th>1</th>\n",
       "      <td>625</td>\n",
       "      <td>625</td>\n",
       "      <td>625</td>\n",
       "      <td>625</td>\n",
       "      <td>625</td>\n",
       "      <td>625</td>\n",
       "      <td>625</td>\n",
       "      <td>625</td>\n",
       "      <td>625</td>\n",
       "    </tr>\n",
       "  </tbody>\n",
       "</table>\n",
       "</div>"
      ],
      "text/plain": [
       "            x  x.1  x.2  x.3    o  o.1  x.4  o.2  o.3\n",
       "positive                                             \n",
       "0         332  332  332  332  332  332  332  332  332\n",
       "1         625  625  625  625  625  625  625  625  625"
      ]
     },
     "execution_count": 496,
     "metadata": {},
     "output_type": "execute_result"
    }
   ],
   "source": [
    "data.groupby(['positive']).count()"
   ]
  },
  {
   "cell_type": "markdown",
   "metadata": {},
   "source": [
    "Next step is to split data into, train, and test. The 'split_train_test' method below randomly splits the data into train and test sets according to given fraction of train data, which in this case is 0.8:"
   ]
  },
  {
   "cell_type": "code",
   "execution_count": 484,
   "metadata": {},
   "outputs": [],
   "source": [
    "def split_train_test(df, frac):\n",
    "    train=df.sample(frac=frac,random_state=200) #random state is a seed value\n",
    "    test=df.drop(train.index)\n",
    "    return train, test\n",
    "\n",
    "train, test = split_train_test(data, 0.8)"
   ]
  },
  {
   "cell_type": "markdown",
   "metadata": {},
   "source": [
    "Exercise 1: Logistic Regression with Gradient Descent"
   ]
  },
  {
   "cell_type": "markdown",
   "metadata": {},
   "source": [
    "In this exercise, I started with diving data into components X_train, Y_train, X_test, Y_test according to target column name, which was done by method 'return_data_components' below, which splitted data into Input and target components according to target column name 'positive'"
   ]
  },
  {
   "cell_type": "code",
   "execution_count": 4,
   "metadata": {},
   "outputs": [
    {
     "ename": "NameError",
     "evalue": "name 'train' is not defined",
     "output_type": "error",
     "traceback": [
      "\u001b[0;31m---------------------------------------------------------------------------\u001b[0m",
      "\u001b[0;31mNameError\u001b[0m                                 Traceback (most recent call last)",
      "\u001b[0;32m<ipython-input-4-13e9783d683b>\u001b[0m in \u001b[0;36m<module>\u001b[0;34m\u001b[0m\n\u001b[1;32m      5\u001b[0m             \u001b[0mtestset\u001b[0m\u001b[0;34m[\u001b[0m\u001b[0mtarget\u001b[0m\u001b[0;34m]\u001b[0m\u001b[0;34m.\u001b[0m\u001b[0mto_numpy\u001b[0m\u001b[0;34m(\u001b[0m\u001b[0;34m)\u001b[0m\u001b[0;34m\u001b[0m\u001b[0;34m\u001b[0m\u001b[0m\n\u001b[1;32m      6\u001b[0m \u001b[0;34m\u001b[0m\u001b[0m\n\u001b[0;32m----> 7\u001b[0;31m \u001b[0mtrain_x\u001b[0m\u001b[0;34m,\u001b[0m \u001b[0mtrain_y\u001b[0m\u001b[0;34m,\u001b[0m \u001b[0mtest_x\u001b[0m\u001b[0;34m,\u001b[0m \u001b[0mtest_y\u001b[0m \u001b[0;34m=\u001b[0m \u001b[0mreturn_data_components\u001b[0m\u001b[0;34m(\u001b[0m\u001b[0mtrain\u001b[0m\u001b[0;34m,\u001b[0m \u001b[0mtest\u001b[0m\u001b[0;34m,\u001b[0m \u001b[0;34m'positive'\u001b[0m\u001b[0;34m)\u001b[0m\u001b[0;34m\u001b[0m\u001b[0;34m\u001b[0m\u001b[0m\n\u001b[0m\u001b[1;32m      8\u001b[0m \u001b[0mtrain_x\u001b[0m\u001b[0;34m\u001b[0m\u001b[0;34m\u001b[0m\u001b[0m\n",
      "\u001b[0;31mNameError\u001b[0m: name 'train' is not defined"
     ]
    }
   ],
   "source": [
    "def return_data_components(trainset, testset, target):\n",
    "    return trainset.drop([target], axis=1).to_numpy(),\\\n",
    "            trainset[target].to_numpy(),\\\n",
    "            testset.drop([target], axis=1).to_numpy(),\\\n",
    "            testset[target].to_numpy()    \n",
    "\n",
    "train_x, train_y, test_x, test_y = return_data_components(train, test, 'positive')\n",
    "train_x"
   ]
  },
  {
   "cell_type": "markdown",
   "metadata": {},
   "source": [
    "Next, to implemet Gradient ascent algorithm, we need few components that will be necessary while learning a model\\\n",
    "\\\n",
    "First, 'likelihood' function below calculates the Likelihhod for given input, output, and current values of theta.\\\n",
    "Also, while calculating the likelihood, it also calculates prediction values of Y (sigmoid function), and gradient of likelihood function for current theta."
   ]
  },
  {
   "cell_type": "code",
   "execution_count": 486,
   "metadata": {},
   "outputs": [],
   "source": [
    "def likelihood(X, Y, teta):\n",
    "    L = 0\n",
    "    grad = np.zeros(len(teta))\n",
    "    Y_PRED = np.zeros(len(Y))\n",
    "    for i in range(len(Y)):\n",
    "        x_teta = np.sum(np.matmul(X[i,:].T, teta))\n",
    "        z = Y[i]*x_teta - np.log(1+math.exp(x_teta))\n",
    "        Y_PRED[i]+=(1/(1+math.exp(-x_teta)))\n",
    "        L+=z\n",
    "        grad = np.add(grad, X[i,:]*(Y[i] - Y_PRED[i]))\n",
    "    return L/len(Y), Y_PRED, grad"
   ]
  },
  {
   "cell_type": "markdown",
   "metadata": {},
   "source": [
    "Next, funtion 'logLoss' below calculates logarithmic loss function for predicted sigmoid function values. This logLoss approach is used for measuring error for log functions, instead of RMSE in linear regression:"
   ]
  },
  {
   "cell_type": "code",
   "execution_count": 487,
   "metadata": {},
   "outputs": [],
   "source": [
    "def logLoss(X, Y, teta):\n",
    "    loss = 0\n",
    "    for i in range(len(Y)):\n",
    "        x_teta = np.sum(np.matmul(X[i,:].T, teta))\n",
    "        y_pred = 1/(1+math.exp(-x_teta))\n",
    "        z = -Y[i]*np.log(y_pred) - (1-Y[i])*np.log(1-y_pred)\n",
    "        loss+=z\n",
    "    return loss/len(Y)       "
   ]
  },
  {
   "cell_type": "markdown",
   "metadata": {},
   "source": [
    "As it was required, bold driver approach was used for step-size selection in order to achieve faster convergence, and increase and decrease factors were set to 1.3 and 0.5"
   ]
  },
  {
   "cell_type": "code",
   "execution_count": 547,
   "metadata": {},
   "outputs": [],
   "source": [
    "def bolddriver(X, Y, teta, mu_old):\n",
    "    mu_pos, mu_neg = 1.3, 0.5\n",
    "    mu_old*=mu_pos\n",
    "    \n",
    "    L_curr, Y_PRED, grad = likelihood(X, Y, teta)\n",
    "    L_new = likelihood(X, Y, np.add(teta, mu_old*grad))[0]\n",
    "\n",
    "    while L_curr > L_new:\n",
    "        mu_old*=mu_neg\n",
    "        teta = np.add(teta, mu_old*grad)\n",
    "        L_new = likelihood(X, Y, teta)[0]\n",
    "    print('Selected learnig rate for current iteration:', mu_old)\n",
    "    return mu_old"
   ]
  },
  {
   "cell_type": "markdown",
   "metadata": {},
   "source": [
    "Next main step is implementing Stochastic gradient descent (ascent for logistic regression) method.\\\n",
    "\\\n",
    "Stochastic gradient descent traing during each iteration different data chunks, and I selected each data row as one data chunk for each iteration.\\\n",
    "During each iteration, theta value is updated accoring to selected through bolddriver learning rate.\\\n",
    "Also, for currently updated theta, log loss value is calculated for test data, and stores to be able to use it later."
   ]
  },
  {
   "cell_type": "code",
   "execution_count": 2,
   "metadata": {},
   "outputs": [],
   "source": [
    "def SGD(X_train, Y_train, i_max, X_test, Y_test):\n",
    "    r = 0.1\n",
    "    #Initialize teta\n",
    "    teta = [0]*X_train.shape[1]\n",
    "    L, Y_PRED, grad = likelihood(X_train, Y_train, teta) \n",
    "    \n",
    "    #Arrays for storing intermediate results\n",
    "    log_losses = [logLoss(X_test, Y_test, teta)]\n",
    "    likelihood_change = []\n",
    "    \n",
    "    for i in range(i_max):\n",
    "        \n",
    "        #Gradient of loss function\n",
    "        x_teta = np.sum(np.matmul(X_train[i,:].T, teta))\n",
    "        grad = X_train[i,:].transpose()*(Y_train[i] - (1/(1+math.exp(-x_teta))))\n",
    "        \n",
    "        #Updating learning rate for current iteration\n",
    "        r = bolddriver(X_train, Y_train, teta, r)\n",
    "\n",
    "        #Updating model parameters\n",
    "        teta = np.add(teta, r*grad)\n",
    "        #Calculate current log loss for test data and add to the list\n",
    "        log_losses.append(logLoss(X_test, Y_test, teta))\n",
    "        \n",
    "        L_PREV = L\n",
    "        L, Y_PRED, grad = likelihood(X_train, Y_train, teta)\n",
    "        \n",
    "        #Calculate current change in likelihood for test data and add to the list\n",
    "        likelihood_change.append(abs(L-L_PREV))\n",
    "        #if i>100 and L - L_PREV < 0.001: break #convergence criteria\n",
    "        print('Loss value on trainset for current teta: ',L, \"i\", i)\n",
    "    return teta, log_losses, likelihood_change"
   ]
  },
  {
   "cell_type": "markdown",
   "metadata": {},
   "source": [
    "Results"
   ]
  },
  {
   "cell_type": "code",
   "execution_count": 3,
   "metadata": {},
   "outputs": [
    {
     "ename": "NameError",
     "evalue": "name 'train_x' is not defined",
     "output_type": "error",
     "traceback": [
      "\u001b[0;31m---------------------------------------------------------------------------\u001b[0m",
      "\u001b[0;31mNameError\u001b[0m                                 Traceback (most recent call last)",
      "\u001b[0;32m<ipython-input-3-0568acfbaac1>\u001b[0m in \u001b[0;36m<module>\u001b[0;34m\u001b[0m\n\u001b[0;32m----> 1\u001b[0;31m \u001b[0mteta_sgd\u001b[0m\u001b[0;34m,\u001b[0m \u001b[0mlog_losses_sgd\u001b[0m\u001b[0;34m,\u001b[0m \u001b[0mlikelihood_change_sgd\u001b[0m \u001b[0;34m=\u001b[0m \u001b[0mSGD\u001b[0m\u001b[0;34m(\u001b[0m\u001b[0mtrain_x\u001b[0m\u001b[0;34m,\u001b[0m \u001b[0mtrain_y\u001b[0m\u001b[0;34m,\u001b[0m \u001b[0mә00\u001b[0m\u001b[0;34m,\u001b[0m \u001b[0mtest_x\u001b[0m\u001b[0;34m,\u001b[0m \u001b[0mtest_y\u001b[0m\u001b[0;34m)\u001b[0m\u001b[0;34m\u001b[0m\u001b[0;34m\u001b[0m\u001b[0m\n\u001b[0m",
      "\u001b[0;31mNameError\u001b[0m: name 'train_x' is not defined"
     ]
    }
   ],
   "source": [
    "teta_sgd, log_losses_sgd, likelihood_change_sgd = SGD(train_x, train_y, ә00, test_x, test_y)"
   ]
  },
  {
   "cell_type": "markdown",
   "metadata": {},
   "source": [
    "From the line graph below it can be seen how log loss value for test data decreases after each iteraion"
   ]
  },
  {
   "cell_type": "code",
   "execution_count": 550,
   "metadata": {},
   "outputs": [
    {
     "data": {
      "image/png": "[encoded data removed]",
      "text/plain": [
       "<Figure size 432x288 with 1 Axes>"
      ]
     },
     "metadata": {
      "needs_background": "light"
     },
     "output_type": "display_data"
    }
   ],
   "source": [
    "def plot_loss_convergence(log_losses):\n",
    "    plt.plot(range(len(log_losses)), log_losses, 'b--', label='log loss')\n",
    "    plt.title('Log loss of testset against iterations')\n",
    "    plt.grid()\n",
    "    plt.legend()\n",
    "    plt.show()\n",
    "    \n",
    "\n",
    "plot_loss_convergence(log_losses_sgd)"
   ]
  },
  {
   "cell_type": "markdown",
   "metadata": {},
   "source": [
    "However, there is no clear trend on the behaviour of change in the likelihood value. So, in some cases there a are slightly higher changes in likelihood function, in some cases there are smaller changes, but as the number of itertaions goes higher, there are smaller chages since the data is getting more trained."
   ]
  },
  {
   "cell_type": "code",
   "execution_count": 551,
   "metadata": {},
   "outputs": [
    {
     "data": {
      "image/png": "[encoded data removed]",
      "text/plain": [
       "<Figure size 432x288 with 1 Axes>"
      ]
     },
     "metadata": {
      "needs_background": "light"
     },
     "output_type": "display_data"
    }
   ],
   "source": [
    "def plot_likelihood_change_convergence(likelihood_change):\n",
    "    plt.plot(range(len(likelihood_change)), likelihood_change, 'b--', label='likelihood change')\n",
    "    plt.title('likelihood_change after each iteration iterations')\n",
    "    plt.grid()\n",
    "    plt.legend()\n",
    "    plt.show()\n",
    "\n",
    "plot_likelihood_change_convergence(likelihood_change_sgd)"
   ]
  },
  {
   "cell_type": "markdown",
   "metadata": {},
   "source": [
    "Exercise 2: Implement Newton Algorithm for Logistic Regression"
   ]
  },
  {
   "cell_type": "markdown",
   "metadata": {},
   "source": [
    "In this task likelihood and logLoss functions were used from previous task.\\\n",
    "Newtons method is updating values of theta according to Hessian matrix, and gradient"
   ]
  },
  {
   "cell_type": "code",
   "execution_count": 454,
   "metadata": {},
   "outputs": [],
   "source": [
    "from numpy.linalg import inv\n",
    "def minimize_newton(Xtrain, Ytrain, Xtest, Ytest, r, i_max):\n",
    "    teta = [0]*train_x.shape[1]\n",
    "    \n",
    "    #Using likelihood function from Exercise 1\n",
    "    L, Y_PRED, g = likelihood(Xtrain, Ytrain, teta)\n",
    "    \n",
    "    #Arrays for storing intermediate results\n",
    "    log_losses = [logLoss(Xtest, Ytest, teta)]\n",
    "    likelihood_change = []\n",
    "    \n",
    "    for i in range(i_max):\n",
    "        \n",
    "        #Calculating Hessian according to formula H = X.T*W*X\n",
    "        W = np.diag(np.multiply(Y_PRED, np.subtract(np.ones(len(Ytrain)), Y_PRED)))\n",
    "        H = np.matmul(np.matmul(Xtrain.T, W), Xtrain)\n",
    "        \n",
    "        #Updating values of theta\n",
    "        teta = teta+r*np.matmul(inv(H), g)\n",
    "        \n",
    "        log_losses.append(logLoss(Xtest, Ytest, teta))\n",
    "        \n",
    "        L_PREV = L\n",
    "        L, Y_PRED, grad = likelihood(Xtrain, Ytrain, teta) \n",
    "        likelihood_change.append(abs(L-L_PREV))\n",
    "        if L - L_PREV < 0.00001: break #convergence criteria\n",
    "        print('Loss value on trainset for current teta: ',L, \"i\", i)\n",
    "    return teta, log_losses, likelihood_change"
   ]
  },
  {
   "cell_type": "markdown",
   "metadata": {},
   "source": [
    "Results"
   ]
  },
  {
   "cell_type": "code",
   "execution_count": 526,
   "metadata": {},
   "outputs": [
    {
     "name": "stdout",
     "output_type": "stream",
     "text": [
      "Loss val:  -0.6919559447257245 i 0\n",
      "Loss val:  -0.6907766474078828 i 1\n",
      "Loss val:  -0.689609222668301 i 2\n",
      "Loss val:  -0.688453606586766 i 3\n",
      "Loss val:  -0.6873097372439462 i 4\n",
      "Loss val:  -0.6861775547052912 i 5\n",
      "Loss val:  -0.6850570010058072 i 6\n",
      "Loss val:  -0.6839480201357341 i 7\n",
      "Loss val:  -0.6828505580271043 i 8\n",
      "Loss val:  -0.681764562541156 i 9\n",
      "Loss val:  -0.6806899834566403 i 10\n",
      "Loss val:  -0.6796267724589583 i 11\n",
      "Loss val:  -0.6785748831301793 i 12\n",
      "Loss val:  -0.677534270939889 i 13\n",
      "Loss val:  -0.6765048932368996 i 14\n",
      "Loss val:  -0.6754867092417897 i 15\n",
      "Loss val:  -0.6744796800402982 i 16\n",
      "Loss val:  -0.673483768577551 i 17\n",
      "Loss val:  -0.6724989396531312 i 18\n",
      "Loss val:  -0.6715251599169823 i 19\n",
      "Loss val:  -0.670562397866161 i 20\n",
      "Loss val:  -0.6696106238424248 i 21\n",
      "Loss val:  -0.6686698100306676 i 22\n",
      "Loss val:  -0.6677399304582016 i 23\n",
      "Loss val:  -0.6668209609948881 i 24\n",
      "Loss val:  -0.6659128793541336 i 25\n",
      "Loss val:  -0.6650156650947306 i 26\n",
      "Loss val:  -0.6641292996235866 i 27\n",
      "Loss val:  -0.6632537661993158 i 28\n",
      "Loss val:  -0.6623890499367097 i 29\n",
      "Loss val:  -0.6615351378121146 i 30\n",
      "Loss val:  -0.660692018669698 i 31\n",
      "Loss val:  -0.6598596832286348 i 32\n",
      "Loss val:  -0.6590381240912117 i 33\n",
      "Loss val:  -0.6582273357518693 i 34\n",
      "Loss val:  -0.657427314607203 i 35\n",
      "Loss val:  -0.6566380589669077 i 36\n",
      "Loss val:  -0.6558595690657295 i 37\n",
      "Loss val:  -0.6550918470763856 i 38\n",
      "Loss val:  -0.6543348971235217 i 39\n",
      "Loss val:  -0.653588725298685 i 40\n",
      "Loss val:  -0.652853339676358 i 41\n",
      "Loss val:  -0.6521287503310643 i 42\n",
      "Loss val:  -0.6514149693555699 i 43\n",
      "Loss val:  -0.650712010880197 i 44\n",
      "Loss val:  -0.6500198910932954 i 45\n",
      "Loss val:  -0.6493386282628706 i 46\n",
      "Loss val:  -0.6486682427594137 i 47\n",
      "Loss val:  -0.6480087570799686 i 48\n",
      "Loss val:  -0.6473601958734293 i 49\n",
      "Loss val:  -0.6467225859671638 i 50\n",
      "Loss val:  -0.6460959563949232 i 51\n",
      "Loss val:  -0.6454803384261426 i 52\n",
      "Loss val:  -0.6448757655966094 i 53\n",
      "Loss val:  -0.6442822737405918 i 54\n",
      "Loss val:  -0.6436999010244193 i 55\n",
      "Loss val:  -0.6431286879816028 i 56\n",
      "Loss val:  -0.64256867754951 i 57\n",
      "Loss val:  -0.6420199151076451 i 58\n",
      "Loss val:  -0.641482448517606 i 59\n",
      "Loss val:  -0.6409563281647408 i 60\n",
      "Loss val:  -0.6404416070015793 i 61\n",
      "Loss val:  -0.639938340593085 i 62\n",
      "Loss val:  -0.6394465871637993 i 63\n",
      "Loss val:  -0.6389664076469237 i 64\n",
      "Loss val:  -0.6384978657354231 i 65\n",
      "Loss val:  -0.6380410279352118 i 66\n",
      "Loss val:  -0.6375959636204844 i 67\n",
      "Loss val:  -0.6371627450912919 i 68\n",
      "Loss val:  -0.6367414476334177 i 69\n",
      "Loss val:  -0.6363321495806487 i 70\n",
      "Loss val:  -0.6359349323795283 i 71\n",
      "Loss val:  -0.6355498806566853 i 72\n",
      "Loss val:  -0.6351770822888212 i 73\n",
      "Loss val:  -0.6348166284754767 i 74\n",
      "Loss val:  -0.6344686138146629 i 75\n",
      "Loss val:  -0.634133136381488 i 76\n",
      "Loss val:  -0.6338102978098744 i 77\n",
      "Loss val:  -0.6335002033775053 i 78\n",
      "Loss val:  -0.6332029620941244 i 79\n",
      "Loss val:  -0.6329186867933118 i 80\n",
      "Loss val:  -0.632647494227901 i 81\n",
      "Loss val:  -0.6323895051691525 i 82\n",
      "Loss val:  -0.632144844509876 i 83\n",
      "Loss val:  -0.6319136413716342 i 84\n",
      "Loss val:  -0.631696029216221 i 85\n",
      "Loss val:  -0.6314921459615767 i 86\n",
      "Loss val:  -0.6313021341023527 i 87\n",
      "Loss val:  -0.631126140835306 i 88\n",
      "Loss val:  -0.6309643181897423 i 89\n",
      "Loss val:  -0.630816823163228 i 90\n",
      "Loss val:  -0.6306838178628057 i 91\n",
      "Loss val:  -0.6305654696519639 i 92\n",
      "Loss val:  -0.6304619513035958 i 93\n",
      "Loss val:  -0.6303734411592697 i 94\n",
      "Loss val:  -0.6303001232950264 i 95\n",
      "Loss val:  -0.6302421876940802 i 96\n",
      "Loss val:  -0.6301998304267017 i 97\n",
      "Loss val:  -0.6301732538376172 i 98\n",
      "Loss val:  -0.6301626667413117 i 99\n"
     ]
    }
   ],
   "source": [
    "teta_newton, log_losses_newton, likelihood_change_newton = minimize_newton(train_x, train_y, test_x, test_y, 0.01, 400)"
   ]
  },
  {
   "cell_type": "markdown",
   "metadata": {},
   "source": [
    "From log loss graph below it can be seen that logarithmic loss decreased in a constant manner, and converged fast and gave lower log loss values than SGD."
   ]
  },
  {
   "cell_type": "code",
   "execution_count": 527,
   "metadata": {},
   "outputs": [
    {
     "data": {
      "image/png": "[encoded data removed]",
      "text/plain": [
       "<Figure size 432x288 with 1 Axes>"
      ]
     },
     "metadata": {
      "needs_background": "light"
     },
     "output_type": "display_data"
    }
   ],
   "source": [
    "plot_loss_convergence(log_losses_newton)"
   ]
  },
  {
   "cell_type": "markdown",
   "metadata": {},
   "source": [
    "The change in likelihood also decreased in a constant manner in comparison with SGD, which stay fluctuated."
   ]
  },
  {
   "cell_type": "code",
   "execution_count": 529,
   "metadata": {},
   "outputs": [
    {
     "data": {
      "image/png": "[encoded data removed]",
      "text/plain": [
       "<Figure size 432x288 with 1 Axes>"
      ]
     },
     "metadata": {
      "needs_background": "light"
     },
     "output_type": "display_data"
    }
   ],
   "source": [
    "plot_likelihood_change_convergence(likelihood_change)"
   ]
  },
  {
   "cell_type": "code",
   "execution_count": null,
   "metadata": {},
   "outputs": [],
   "source": []
  }
 ],
 "metadata": {
  "kernelspec": {
   "display_name": "Python 3",
   "language": "python",
   "name": "python3"
  },
  "language_info": {
   "codemirror_mode": {
    "name": "ipython",
    "version": 3
   },
   "file_extension": ".py",
   "mimetype": "text/x-python",
   "name": "python",
   "nbconvert_exporter": "python",
   "pygments_lexer": "ipython3",
   "version": "3.8.5"
  }
 },
 "nbformat": 4,
 "nbformat_minor": 4
}
